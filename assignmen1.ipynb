{
  "nbformat": 4,
  "nbformat_minor": 0,
  "metadata": {
    "colab": {
      "name": "assignmen1.ipynb",
      "provenance": [],
      "authorship_tag": "ABX9TyN8jazhk15lnnhwWAnU0uOa",
      "include_colab_link": true
    },
    "kernelspec": {
      "name": "python3",
      "display_name": "Python 3"
    }
  },
  "cells": [
    {
      "cell_type": "markdown",
      "metadata": {
        "id": "view-in-github",
        "colab_type": "text"
      },
      "source": [
        "<a href=\"https://colab.research.google.com/github/ashi-sharma/training_model/blob/master/assignmen1.ipynb\" target=\"_parent\"><img src=\"https://colab.research.google.com/assets/colab-badge.svg\" alt=\"Open In Colab\"/></a>"
      ]
    },
    {
      "cell_type": "code",
      "metadata": {
        "id": "usqU-vEsYmrV",
        "colab_type": "code",
        "colab": {}
      },
      "source": [
        "import numpy as np\n",
        "import pandas as pd\n",
        "x_test=np.genfromtxt(\"/content/Linear_X_Test.csv\",delimiter=',').reshape(-1,1)\n",
        "x_train=np.genfromtxt(\"/content/Linear_X_Train.csv\",delimiter=',').reshape(-1,1)\n",
        "y_train=np.genfromtxt(\"/content/Linear_Y_Train.csv\",delimiter=',').reshape(-1,1)\n",
        "x_train[np.isnan(x_train)]=0.0\n",
        "y_train[np.isnan(y_train)]=0.0\n",
        "x_test[np.isnan(x_test)]=0.0\n",
        "from sklearn.linear_model import LinearRegression\n",
        "alg1=LinearRegression()\n",
        "alg1.fit(x_train,y_train)\n",
        "y_test=alg1.predict(x_test)"
      ],
      "execution_count": 0,
      "outputs": []
    }
  ]
}